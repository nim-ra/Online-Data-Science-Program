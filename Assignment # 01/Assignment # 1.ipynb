{
 "cells": [
  {
   "cell_type": "code",
   "execution_count": 16,
   "id": "6bc3febf",
   "metadata": {},
   "outputs": [
    {
     "name": "stdout",
     "output_type": "stream",
     "text": [
      "\t Twinkle, twinkle, little star; \n",
      "\t\t How I wonder what you are! \n",
      "\t\t\t Up above the world so high, \n",
      "\t\t\t Like a diamond in the sky.\n",
      "\t Twinkle, twinkle, little star, \n",
      "\t\t How I wonder what you are\n"
     ]
    }
   ],
   "source": [
    "# Question : 01\n",
    "\n",
    "poem = \"\\t Twinkle, twinkle, little star; \\n\\t\\t How I wonder what you are! \\n\\t\\t\\t Up above the world so high, \\n\\t\\t\\t Like a diamond in the sky.\\n\\t Twinkle, twinkle, little star, \\n\\t\\t How I wonder what you are\"\n",
    "\n",
    "print(poem)"
   ]
  },
  {
   "cell_type": "code",
   "execution_count": 7,
   "id": "29460436",
   "metadata": {},
   "outputs": [
    {
     "name": "stdout",
     "output_type": "stream",
     "text": [
      "python version\n",
      "3.9.7 (default, Sep 16 2021, 16:59:28) [MSC v.1916 64 bit (AMD64)]\n"
     ]
    }
   ],
   "source": [
    "# Question : 02 \n",
    "\n",
    "import sys\n",
    "print(\"python version\")\n",
    "print(sys.version)"
   ]
  },
  {
   "cell_type": "code",
   "execution_count": 29,
   "id": "7c7c1164",
   "metadata": {},
   "outputs": [
    {
     "name": "stdout",
     "output_type": "stream",
     "text": [
      "Current Date is :\n",
      "01-01-22\n",
      "Current time is :\n",
      "19:18:06\n"
     ]
    }
   ],
   "source": [
    "# Question : 03\n",
    "\n",
    "import datetime\n",
    "\n",
    "datetime = datetime.datetime.now()\n",
    "\n",
    "print(\"Current Date is :\")\n",
    "formated_date = datetime.strftime(\"%d-%m-%y\")\n",
    "print(formated_date)\n",
    "\n",
    "print(\"Current time is :\")\n",
    "formated_time = datetime.strftime(\"%H:%M:%S\")\n",
    "print(formated_time)\n"
   ]
  },
  {
   "cell_type": "code",
   "execution_count": 8,
   "id": "c04ac6c5",
   "metadata": {},
   "outputs": [
    {
     "name": "stdout",
     "output_type": "stream",
     "text": [
      "Enter the value of radius = 2\n",
      "Area of the Circle is :\n",
      "12.56\n"
     ]
    }
   ],
   "source": [
    "# Question : 04\n",
    "\n",
    "radius = input(\"Enter the value of radius = \")\n",
    "r =int(radius)\n",
    "area_of_circle = 3.14*r*r;\n",
    "\n",
    "print(\"Area of the Circle is :\")\n",
    "print(area_of_circle)"
   ]
  },
  {
   "cell_type": "code",
   "execution_count": 14,
   "id": "fa061fd5",
   "metadata": {},
   "outputs": [
    {
     "name": "stdout",
     "output_type": "stream",
     "text": [
      "Enter your First Name : Nimra\n",
      "Enter your Second Name : Sagheer\n",
      "Name in Reverse order : \n",
      "Sagheer Nimra\n"
     ]
    }
   ],
   "source": [
    "# Question : 05\n",
    "\n",
    "First_name = input(\"Enter your First Name : \")\n",
    "Second_name = input(\"Enter your Second Name : \")\n",
    "space = \" \"\n",
    "\n",
    "name = Second_name +space + First_name \n",
    "\n",
    "print(\"Name in Reverse order : \")\n",
    "print(name)"
   ]
  },
  {
   "cell_type": "code",
   "execution_count": 15,
   "id": "deb56858",
   "metadata": {},
   "outputs": [
    {
     "name": "stdout",
     "output_type": "stream",
     "text": [
      "a1 = 5\n",
      "b1 = 2\n",
      "Addition :\n",
      "7\n"
     ]
    }
   ],
   "source": [
    "# Question : 06\n",
    "\n",
    "a = input(\"a1 = \")# a is string\n",
    "a1 = int(a)#convert into interger\n",
    "\n",
    "b = input(\"b1 = \")# b is string\n",
    "b1 = int(b)#convert into integer\n",
    "\n",
    "print(\"Addition :\")\n",
    "c = a1 + b1\n",
    "print(c)"
   ]
  }
 ],
 "metadata": {
  "kernelspec": {
   "display_name": "Python 3 (ipykernel)",
   "language": "python",
   "name": "python3"
  },
  "language_info": {
   "codemirror_mode": {
    "name": "ipython",
    "version": 3
   },
   "file_extension": ".py",
   "mimetype": "text/x-python",
   "name": "python",
   "nbconvert_exporter": "python",
   "pygments_lexer": "ipython3",
   "version": "3.9.7"
  }
 },
 "nbformat": 4,
 "nbformat_minor": 5
}
